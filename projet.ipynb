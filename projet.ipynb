{
 "cells": [
  {
   "cell_type": "markdown",
   "metadata": {
    "id": "4oOUc1qi91oq"
   },
   "source": [
    "Ceci n'est pas un commentaire\n"
   ]
  },
  {
   "cell_type": "markdown",
   "metadata": {
    "id": "Lx4jEs_D3ATI"
   },
   "source": [
    "### Imports & Source"
   ]
  },
  {
   "cell_type": "code",
   "execution_count": 6,
   "metadata": {
    "id": "cVJBu9pH2fdY"
   },
   "outputs": [
    {
     "name": "stdout",
     "output_type": "stream",
     "text": [
      "Path to dataset files: C:\\Users\\Development\\.cache\\kagglehub\\datasets\\mikhailma\\test-dataset\\versions\\1\n"
     ]
    }
   ],
   "source": [
    "# Libraries\n",
    "import tensorflow as tf\n",
    "import matplotlib.pyplot as plt\n",
    "import kagglehub\n",
    "\n",
    "# Source\n",
    "path = kagglehub.dataset_download(\"mikhailma/test-dataset\")\n",
    "print(\"Path to dataset files:\", path)"
   ]
  },
  {
   "cell_type": "markdown",
   "metadata": {
    "id": "YemqRy3eJKYy"
   },
   "source": [
    "### Utils?"
   ]
  },
  {
   "cell_type": "code",
   "execution_count": null,
   "metadata": {
    "id": "pntlgWRL4IEU"
   },
   "outputs": [],
   "source": [
    "def build_model(dense_neurons):\n",
    "    model = tf.keras.Sequential([\n",
    "        layers.InputLayer((28,28,1)),\n",
    "        layers.Conv2D(32, (3,3), activation='relu'),\n",
    "        layers.MaxPooling2D(),\n",
    "        layers.Flatten(),\n",
    "        layers.Dense(dense_neurons, activation='relu'),\n",
    "        layers.Dense(10, activation='softmax')\n",
    "    ])\n",
    "\n",
    "    model.compile(optimizer='adam',\n",
    "                    loss='sparse_categorical_crossentropy',\n",
    "                    metrics=['accuracy'])\n",
    "    return model\n"
   ]
  },
  {
   "cell_type": "code",
   "execution_count": null,
   "metadata": {
    "id": "jyuDKx076oL9"
   },
   "outputs": [],
   "source": [
    "model = build_model(dense_neurons=64)\n",
    "BAT = 64\n",
    "    # Train the model\n",
    "history = model.fit(\n",
    "    train_images,train_labels,\n",
    "    batch_size=BAT,\n",
    "    epochs=5,\n",
    "    verbose=2\n",
    ")\n",
    "# Evaluate the model\n",
    "loss, accuracy = model.evaluate(test_images, test_labels, verbose=2)"
   ]
  },
  {
   "cell_type": "markdown",
   "metadata": {
    "id": "r6IYD-fY8c9m"
   },
   "source": [
    "How to load images with tensorflow  : https://www.tensorflow.org/api_docs/python/tf/keras/utils/load_img"
   ]
  },
  {
   "cell_type": "code",
   "execution_count": null,
   "metadata": {
    "id": "_mwq5Lly8gos"
   },
   "outputs": [],
   "source": [
    "tf.keras.utils.load_img(\n",
    "    path,\n",
    "    color_mode='rgb',\n",
    "    target_size=None,\n",
    "    interpolation='nearest',\n",
    "    keep_aspect_ratio=False\n",
    ")"
   ]
  },
  {
   "cell_type": "markdown",
   "metadata": {
    "id": "hqcFhgyyJKYz"
   },
   "source": [
    "### Data Preprocessing"
   ]
  },
  {
   "cell_type": "code",
   "execution_count": null,
   "metadata": {},
   "outputs": [],
   "source": [
<<<<<<< HEAD
    "with open(path)"
=======
    "import os\n",
    "import pandas as pd\n",
    "from PIL import Image\n",
    "import numpy as np\n",
    "\n",
    "\n",
    "def lister_fichiers_recursivement(repertoire):\n",
    "    data = {\"Image\": [], \n",
    "            \"Label\": []}\n",
    "    #df = pd.DataFrame()\n",
    "    for racine, repertoires, fichiers in os.walk(repertoire):\n",
    "        for fichier in fichiers:\n",
    "            \n",
    "            # teh subdirectory matching teh image's label\n",
    "            sub_folder = fichier.split(\" \")[0]\n",
    "            if sub_folder == \"Cross\" : \n",
    "                sub_folder = \"Crosswalk\"\n",
    "            print(sub_folder)\n",
    "            print(repertoire+ \"/\" + sub_folder + fichier)\n",
    "            image = Image.open(repertoire+ \"/\" + sub_folder + \"/\"+ fichier).convert(\"RGB\")\n",
    "            image_array = np.array(image)\n",
    "            data[\"Image\"].append(image_array)\n",
    "            data[\"Label\"].append(sub_folder)\n",
    "    \n",
    "    return pd.DataFrame(data)\n",
    " \n",
    "df = lister_fichiers_recursivement('./Google_Recaptcha_V2_Images_Dataset/images')"
>>>>>>> 453ae0f3f34f6d1579d2cd544cc38c4ec9eadd37
   ]
  }
 ],
 "metadata": {
  "colab": {
   "provenance": []
  },
  "kernelspec": {
   "display_name": "base",
   "language": "python",
   "name": "python3"
  },
  "language_info": {
   "codemirror_mode": {
    "name": "ipython",
    "version": 3
   },
   "file_extension": ".py",
   "mimetype": "text/x-python",
   "name": "python",
   "nbconvert_exporter": "python",
   "pygments_lexer": "ipython3",
   "version": "3.11.10"
  }
 },
 "nbformat": 4,
 "nbformat_minor": 0
}
