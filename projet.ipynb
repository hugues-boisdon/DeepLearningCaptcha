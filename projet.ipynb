{
 "cells": [
  {
   "cell_type": "markdown",
   "metadata": {
    "id": "4oOUc1qi91oq"
   },
   "source": [
    "Ceci n'est pas un commentaire\n"
   ]
  },
  {
   "cell_type": "markdown",
   "metadata": {
    "id": "Lx4jEs_D3ATI"
   },
   "source": [
    "### Imports"
   ]
  },
  {
   "cell_type": "code",
   "execution_count": null,
   "metadata": {
    "id": "cVJBu9pH2fdY"
   },
   "outputs": [],
   "source": [
    "import tensorflow as tf\n",
    "import matplotlib.pyplot as plt\n",
    "import kagglehub"
   ]
  },
  {
   "cell_type": "code",
   "execution_count": null,
   "metadata": {
    "colab": {
     "base_uri": "https://localhost:8080/"
    },
    "id": "VFMAVdi34rRi",
    "outputId": "04b8fd29-b158-4cd8-a1f6-f691de58d0d3"
   },
   "outputs": [
    {
     "name": "stderr",
     "output_type": "stream",
     "text": [
      "c:\\Users\\augus\\AppData\\Local\\Programs\\Python\\Python310\\lib\\site-packages\\tqdm\\auto.py:21: TqdmWarning: IProgress not found. Please update jupyter and ipywidgets. See https://ipywidgets.readthedocs.io/en/stable/user_install.html\n",
      "  from .autonotebook import tqdm as notebook_tqdm\n"
     ]
    },
    {
     "name": "stdout",
     "output_type": "stream",
     "text": [
      "Downloading from https://www.kaggle.com/api/v1/datasets/download/mikhailma/test-dataset?dataset_version_number=1...\n"
     ]
    },
    {
     "name": "stderr",
     "output_type": "stream",
     "text": [
      "100%|██████████| 393M/393M [00:19<00:00, 20.9MB/s] "
     ]
    },
    {
     "name": "stdout",
     "output_type": "stream",
     "text": [
      "Extracting files...\n"
     ]
    },
    {
     "name": "stderr",
     "output_type": "stream",
     "text": [
      "\n"
     ]
    },
    {
     "name": "stdout",
     "output_type": "stream",
     "text": [
      "Path to dataset files: C:\\Users\\augus\\.cache\\kagglehub\\datasets\\mikhailma\\test-dataset\\versions\\1\n"
     ]
    }
   ],
   "source": [
    "# Download latest version\n",
    "path = kagglehub.dataset_download(\"mikhailma/test-dataset\")\n",
    "\n",
    "print(\"Path to dataset files:\", path)"
   ]
  },
  {
   "cell_type": "code",
   "execution_count": 2,
   "metadata": {},
   "outputs": [],
   "source": [
    "import os\n",
    "import pandas as pd\n",
    "from PIL import Image\n",
    "import numpy as np\n",
    "\n",
    "\n",
    "def lister_fichiers_recursivement(repertoire):\n",
    "    data = {\"Image\": [], \n",
    "            \"Label\": []}\n",
    "    #df = pd.DataFrame()\n",
    "    for racine, repertoires, fichiers in os.walk(repertoire):\n",
    "        for fichier in fichiers:\n",
    "\n",
    "            sub_folder = fichier.split(\" \")[0]\n",
    "            if sub_folder == \"Cross\" : \n",
    "                sub_folder = \"Crosswalk\"\n",
    "            if sub_folder == \"Tlight\" : \n",
    "                sub_folder = \"Traffic Light\"\n",
    "            image = Image.open(repertoire+ \"/\" + sub_folder + \"/\"+ fichier).convert(\"RGB\")\n",
    "            image_array = np.array(image)\n",
    "            data[\"Image\"].append(image_array)\n",
    "            data[\"Label\"].append(sub_folder)\n",
    "\n",
    "    return pd.DataFrame(data)\n",
    " \n",
    "df = lister_fichiers_recursivement('./src/Google_Recaptcha_V2_Images_Dataset/images')"
   ]
  },
  {
   "cell_type": "code",
   "execution_count": 3,
   "metadata": {},
   "outputs": [
    {
     "data": {
      "text/html": [
       "<div>\n",
       "<style scoped>\n",
       "    .dataframe tbody tr th:only-of-type {\n",
       "        vertical-align: middle;\n",
       "    }\n",
       "\n",
       "    .dataframe tbody tr th {\n",
       "        vertical-align: top;\n",
       "    }\n",
       "\n",
       "    .dataframe thead th {\n",
       "        text-align: right;\n",
       "    }\n",
       "</style>\n",
       "<table border=\"1\" class=\"dataframe\">\n",
       "  <thead>\n",
       "    <tr style=\"text-align: right;\">\n",
       "      <th></th>\n",
       "      <th>Image</th>\n",
       "      <th>Label</th>\n",
       "    </tr>\n",
       "  </thead>\n",
       "  <tbody>\n",
       "    <tr>\n",
       "      <th>0</th>\n",
       "      <td>[[[117, 114, 104], [114, 110, 101], [112, 109,...</td>\n",
       "      <td>Bicycle</td>\n",
       "    </tr>\n",
       "    <tr>\n",
       "      <th>1</th>\n",
       "      <td>[[[54, 75, 67], [58, 76, 69], [66, 77, 71], [6...</td>\n",
       "      <td>Bicycle</td>\n",
       "    </tr>\n",
       "    <tr>\n",
       "      <th>2</th>\n",
       "      <td>[[[38, 33, 27], [37, 34, 28], [37, 34, 29], [3...</td>\n",
       "      <td>Bicycle</td>\n",
       "    </tr>\n",
       "    <tr>\n",
       "      <th>3</th>\n",
       "      <td>[[[49, 49, 51], [55, 56, 58], [72, 73, 75], [9...</td>\n",
       "      <td>Bicycle</td>\n",
       "    </tr>\n",
       "    <tr>\n",
       "      <th>4</th>\n",
       "      <td>[[[135, 128, 125], [143, 130, 129], [153, 135,...</td>\n",
       "      <td>Bicycle</td>\n",
       "    </tr>\n",
       "  </tbody>\n",
       "</table>\n",
       "</div>"
      ],
      "text/plain": [
       "                                               Image    Label\n",
       "0  [[[117, 114, 104], [114, 110, 101], [112, 109,...  Bicycle\n",
       "1  [[[54, 75, 67], [58, 76, 69], [66, 77, 71], [6...  Bicycle\n",
       "2  [[[38, 33, 27], [37, 34, 28], [37, 34, 29], [3...  Bicycle\n",
       "3  [[[49, 49, 51], [55, 56, 58], [72, 73, 75], [9...  Bicycle\n",
       "4  [[[135, 128, 125], [143, 130, 129], [153, 135,...  Bicycle"
      ]
     },
     "execution_count": 3,
     "metadata": {},
     "output_type": "execute_result"
    }
   ],
   "source": [
    "df.head(5)"
   ]
  },
  {
   "cell_type": "code",
   "execution_count": null,
   "metadata": {},
   "outputs": [],
   "source": [
    "from sklearn.model_selection import train_test_split\n",
    "\n",
    "#train_images, train_labels, test_images, test_labels = train_test_split(df, )"
   ]
  },
  {
   "cell_type": "code",
   "execution_count": null,
   "metadata": {
    "id": "pntlgWRL4IEU"
   },
   "outputs": [],
   "source": [
    "def build_model(dense_neurons):\n",
    "    model = tf.keras.Sequential([\n",
    "        layers.InputLayer((28,28,1)),\n",
    "        layers.Conv2D(32, (3,3), activation='relu'),\n",
    "        layers.MaxPooling2D(),\n",
    "        layers.Flatten(),\n",
    "        layers.Dense(dense_neurons, activation='relu'),\n",
    "        layers.Dense(10, activation='softmax')\n",
    "    ])\n",
    "\n",
    "    model.compile(optimizer='adam',\n",
    "                  loss='sparse_categorical_crossentropy',\n",
    "                  metrics=['accuracy'])\n",
    "    return model\n"
   ]
  },
  {
   "cell_type": "code",
   "execution_count": null,
   "metadata": {
    "id": "jyuDKx076oL9"
   },
   "outputs": [],
   "source": [
    "model = build_model(dense_neurons=64)\n",
    "BAT = 64\n",
    "    # Train the model\n",
    "history = model.fit(\n",
    "    train_images,train_labels,\n",
    "    batch_size=BAT,\n",
    "    epochs=5,\n",
    "    verbose=2\n",
    ")\n",
    "# Evaluate the model\n",
    "loss, accuracy = model.evaluate(test_images, test_labels, verbose=2)"
   ]
  },
  {
   "cell_type": "markdown",
   "metadata": {
    "id": "r6IYD-fY8c9m"
   },
   "source": [
    "How to load images with tensorflow  : https://www.tensorflow.org/api_docs/python/tf/keras/utils/load_img"
   ]
  },
  {
   "cell_type": "code",
   "execution_count": null,
   "metadata": {
    "id": "_mwq5Lly8gos"
   },
   "outputs": [],
   "source": [
    "tf.keras.utils.load_img(\n",
    "    path,\n",
    "    color_mode='rgb',\n",
    "    target_size=None,\n",
    "    interpolation='nearest',\n",
    "    keep_aspect_ratio=False\n",
    ")"
   ]
  }
 ],
 "metadata": {
  "colab": {
   "provenance": []
  },
  "kernelspec": {
   "display_name": "Python 3",
   "name": "python3"
  },
  "language_info": {
   "codemirror_mode": {
    "name": "ipython",
    "version": 3
   },
   "file_extension": ".py",
   "mimetype": "text/x-python",
   "name": "python",
   "nbconvert_exporter": "python",
   "pygments_lexer": "ipython3",
   "version": "3.10.11"
  }
 },
 "nbformat": 4,
 "nbformat_minor": 0
}
