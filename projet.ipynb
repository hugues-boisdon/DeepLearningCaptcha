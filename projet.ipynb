{
  "cells": [
    {
      "cell_type": "markdown",
      "source": [
        "Ceci n'est pas un commentaire\n"
      ],
      "metadata": {
        "id": "4oOUc1qi91oq"
      }
    },
    {
      "cell_type": "markdown",
      "metadata": {
        "id": "Lx4jEs_D3ATI"
      },
      "source": [
        "### Imports"
      ]
    },
    {
      "cell_type": "code",
      "execution_count": null,
      "metadata": {
        "id": "cVJBu9pH2fdY"
      },
      "outputs": [],
      "source": [
        "import tensorflow as tf\n",
        "import matplotlib.pyplot as plt\n",
        "\n",
        "# Sources\n",
        "src_url = \"/kaggle/input/test-dataset/Google_Recaptcha_V2_Images_Dataset/images/\""
      ]
    },
    {
      "cell_type": "code",
      "execution_count": null,
      "metadata": {
        "colab": {
          "base_uri": "https://localhost:8080/"
        },
        "id": "VFMAVdi34rRi",
        "outputId": "04b8fd29-b158-4cd8-a1f6-f691de58d0d3"
      },
      "outputs": [
        {
          "name": "stdout",
          "output_type": "stream",
          "text": [
            "Downloading from https://www.kaggle.com/api/v1/datasets/download/mikhailma/test-dataset?dataset_version_number=1...\n"
          ]
        },
        {
          "name": "stderr",
          "output_type": "stream",
          "text": [
            "100%|██████████| 393M/393M [00:03<00:00, 103MB/s]"
          ]
        },
        {
          "name": "stdout",
          "output_type": "stream",
          "text": [
            "Extracting files...\n"
          ]
        },
        {
          "name": "stderr",
          "output_type": "stream",
          "text": [
            "\n"
          ]
        },
        {
          "name": "stdout",
          "output_type": "stream",
          "text": [
            "Path to dataset files: /root/.cache/kagglehub/datasets/mikhailma/test-dataset/versions/1\n"
          ]
        }
      ],
      "source": [
        "import kagglehub\n",
        "\n",
        "# Download latest version\n",
        "path = kagglehub.dataset_download(\"mikhailma/test-dataset\")\n",
        "\n",
        "print(\"Path to dataset files:\", path)"
      ]
    },
    {
      "cell_type": "code",
      "execution_count": null,
      "metadata": {
        "colab": {
          "base_uri": "https://localhost:8080/"
        },
        "id": "-ehKxADd5Vup",
        "outputId": "6604cbeb-b008-4eea-a853-8e90dc42826b"
      },
      "outputs": [
        {
          "data": {
            "text/plain": [
              "['Google_Recaptcha_V2_Images_Dataset']"
            ]
          },
          "execution_count": 2,
          "metadata": {},
          "output_type": "execute_result"
        }
      ],
      "source": [
        "import os\n",
        "os.listdir(path)"
      ]
    },
    {
      "cell_type": "code",
      "execution_count": null,
      "metadata": {
        "id": "pntlgWRL4IEU"
      },
      "outputs": [],
      "source": [
        "def build_model(dense_neurons):\n",
        "    model = tf.keras.Sequential([\n",
        "        layers.InputLayer((28,28,1)),\n",
        "        layers.Conv2D(32, (3,3), activation='relu'),\n",
        "        layers.MaxPooling2D(),\n",
        "        layers.Flatten(),\n",
        "        layers.Dense(dense_neurons, activation='relu'),\n",
        "        layers.Dense(10, activation='softmax')\n",
        "    ])\n",
        "\n",
        "    model.compile(optimizer='adam',\n",
        "                  loss='sparse_categorical_crossentropy',\n",
        "                  metrics=['accuracy'])\n",
        "    return model\n"
      ]
    },
    {
      "cell_type": "code",
      "execution_count": null,
      "metadata": {
        "id": "jyuDKx076oL9"
      },
      "outputs": [],
      "source": [
        "model = build_model(dense_neurons=64)\n",
        "BAT = 64\n",
        "    # Train the model\n",
        "history = model.fit(\n",
        "    train_images,train_labels,\n",
        "    batch_size=BAT,\n",
        "    epochs=5,\n",
        "    verbose=2\n",
        ")\n",
        "# Evaluate the model\n",
        "loss, accuracy = model.evaluate(test_images, test_labels, verbose=2)"
      ]
    },
    {
      "cell_type": "markdown",
      "metadata": {
        "id": "r6IYD-fY8c9m"
      },
      "source": [
        "How to load images with tensorflow  : https://www.tensorflow.org/api_docs/python/tf/keras/utils/load_img"
      ]
    },
    {
      "cell_type": "code",
      "execution_count": null,
      "metadata": {
        "id": "_mwq5Lly8gos"
      },
      "outputs": [],
      "source": [
        "tf.keras.utils.load_img(\n",
        "    path,\n",
        "    color_mode='rgb',\n",
        "    target_size=None,\n",
        "    interpolation='nearest',\n",
        "    keep_aspect_ratio=False\n",
        ")"
      ]
    }
  ],
  "metadata": {
    "colab": {
      "provenance": []
    },
    "kernelspec": {
      "display_name": "Python 3",
      "name": "python3"
    },
    "language_info": {
      "name": "python"
    }
  },
  "nbformat": 4,
  "nbformat_minor": 0
}